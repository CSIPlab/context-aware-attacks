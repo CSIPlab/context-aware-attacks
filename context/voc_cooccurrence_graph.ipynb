{
 "cells": [
  {
   "cell_type": "markdown",
   "id": "324ca16f-4db4-498e-8011-3b771ad31d86",
   "metadata": {},
   "source": [
    "### get the co-occurrence graph of VOC dataset\n",
    "\n",
    "\n",
    "```\n",
    "co-occurrence matrix definition: mat[i,j] is the number of unique pairs of label_i and label_j in the whole dataset\n",
    "\n",
    "- size and distance\n",
    "- normal distribution\n",
    "\n",
    "```"
   ]
  },
  {
   "cell_type": "code",
   "execution_count": 1,
   "id": "0cdeb24e-a2f7-415d-9e9c-0883250b3ea1",
   "metadata": {},
   "outputs": [],
   "source": [
    "from pathlib import Path\n",
    "from collections import defaultdict\n",
    "import xml.etree.ElementTree as ET\n",
    "import json as JSON\n",
    "\n",
    "import numpy as np\n",
    "from tqdm import tqdm\n",
    "from matplotlib import pyplot as plt"
   ]
  },
  {
   "cell_type": "code",
   "execution_count": 2,
   "id": "333aeda3-c549-42a2-8310-f51d01629de6",
   "metadata": {},
   "outputs": [],
   "source": [
    "VOC_BBOX_LABEL_NAMES = (\n",
    "    'aeroplane',\n",
    "    'bicycle',\n",
    "    'bird',\n",
    "    'boat',\n",
    "    'bottle',\n",
    "    'bus',\n",
    "    'car',\n",
    "    'cat',\n",
    "    'chair',\n",
    "    'cow',\n",
    "    'diningtable',\n",
    "    'dog',\n",
    "    'horse',\n",
    "    'motorbike',\n",
    "    'person',\n",
    "    'pottedplant',\n",
    "    'sheep',\n",
    "    'sofa',\n",
    "    'train',\n",
    "    'tvmonitor')\n",
    "\n",
    "n_labels = len(VOC_BBOX_LABEL_NAMES)\n",
    "data_root = Path('../data')"
   ]
  },
  {
   "cell_type": "code",
   "execution_count": 3,
   "id": "5f880334-90fc-4f95-9b54-e986f9d54db1",
   "metadata": {},
   "outputs": [],
   "source": [
    "def get_ids(split = 'trainval'):\n",
    "    \"\"\"Get the ids of images in VOC2007 train/test split\n",
    "    Args:\n",
    "        split (str): 'trainvsl' or 'test'\n",
    "    Returns:\n",
    "        ids (list of strs): store the str of idx\n",
    "    \"\"\"\n",
    "\n",
    "    txt_root = data_root / \"VOC/VOC2007/ImageSets/Main/\"\n",
    "    path = txt_root / f\"{split}.txt\"\n",
    "    with open(path,'r') as f:\n",
    "        data = f.readlines()\n",
    "    ids = [i[:-1] for i in data]\n",
    "    return ids\n",
    "\n",
    "\n",
    "def get_labels(split = 'trainval'):\n",
    "    \"\"\"Get the labels of images in VOC2007 as a list of ints\n",
    "    Args:\n",
    "        split (str): 'trainval' or 'test'\n",
    "    Returns:\n",
    "        all_labels (list of list of ints): each list contains a list of label indices as ints\n",
    "    \"\"\"\n",
    "    anno_root = data_root / \"VOC/VOC2007/Annotations/\"\n",
    "    ids = get_ids(split)\n",
    "    all_labels = []\n",
    "    for im_id, id_ in tqdm(enumerate(ids)):\n",
    "        file = anno_root / f\"{id_}.xml\"\n",
    "        labels = []\n",
    "        anno = ET.parse(file)\n",
    "        for obj in anno.findall('object'):\n",
    "            label_name = obj.find('name').text.lower().strip()\n",
    "            label_index = VOC_BBOX_LABEL_NAMES.index(label_name)\n",
    "            labels.append(label_index)\n",
    "        all_labels.append(labels)\n",
    "    return all_labels\n",
    "\n",
    "\n",
    "# from the labels, construct the co-occurrence matrix\n",
    "def get_cooccurrence(all_labels, n_labels=20):\n",
    "    \"\"\"Get co-occurrence matrix from the label set\n",
    "    Args:\n",
    "        all_labels (list of list of ints): each list contains a list of label indices as ints\n",
    "    Returns:\n",
    "        mat (list of list of ints): a 2D array \n",
    "    \"\"\"\n",
    "    mat = np.zeros([n_labels,n_labels])\n",
    "    size_mat = defaultdict(list)\n",
    "    dist_mat = defaultdict(list)\n",
    "    \n",
    "    for labels in all_labels:\n",
    "        for i in range(len(labels)):\n",
    "            for j in range(i+1,len(labels)):\n",
    "                # looking for any unique pairs of objects\n",
    "                o1 = labels[i]\n",
    "                o2 = labels[j]\n",
    "                \n",
    "                if o1 == o2:\n",
    "                    # diagonal elements\n",
    "                    mat[o1,o2] += 1\n",
    "                else:\n",
    "                    mat[o1,o2] += 1\n",
    "                    mat[o2,o1] += 1\n",
    "    mat = mat.astype(int).tolist()\n",
    "    return mat"
   ]
  },
  {
   "cell_type": "code",
   "execution_count": 5,
   "id": "a9f443d9-e896-4ebf-8669-44d3000d8b7c",
   "metadata": {},
   "outputs": [
    {
     "name": "stderr",
     "output_type": "stream",
     "text": [
      "5011it [00:35, 142.12it/s]\n"
     ]
    }
   ],
   "source": [
    "# generate three files:\n",
    "# cooccurrence matrix, size matrix, distance matrix\n",
    "co_mat = np.zeros([n_labels,n_labels])\n",
    "size_mat = defaultdict(list) # a dict of list, [h,w]\n",
    "dist_mat = defaultdict(list) # a dict of list, dist\n",
    "\n",
    "split = 'trainval'\n",
    "anno_root = data_root / \"VOC/VOC2007/Annotations/\"\n",
    "ids = get_ids(split)\n",
    "for im_id, id_ in tqdm(enumerate(ids)):\n",
    "    file = anno_root / f\"{id_}.xml\"\n",
    "    anno = ET.parse(file)\n",
    "\n",
    "    # image size\n",
    "    size = anno.find('size')\n",
    "    W = int(size.find('width').text)\n",
    "    H = int(size.find('height').text)\n",
    "    L = np.sqrt(W**2 + H**2)\n",
    "    \n",
    "    # classes and bboxes\n",
    "    object_info = []\n",
    "    for obj in anno.findall('object'):\n",
    "        label_name = obj.find('name').text.lower().strip()\n",
    "        label_idx = VOC_BBOX_LABEL_NAMES.index(label_name)\n",
    "        \n",
    "        bbox = obj.find('bndbox')\n",
    "        x0 = int(bbox.find('xmin').text)\n",
    "        y0 = int(bbox.find('ymin').text)\n",
    "        x1 = int(bbox.find('xmax').text)\n",
    "        y1 = int(bbox.find('ymax').text)\n",
    "        dic = {'idx':label_idx, 'w':x1 - x0, 'h':y1 - y0, 'xc': (x0+x1)/2, 'yc': (y0+y1)/2}\n",
    "        object_info.append(dic)\n",
    "    \n",
    "    # iterate the objects in an image\n",
    "    for i in range(len(object_info)):\n",
    "        for j in range(i+1,len(object_info)):\n",
    "            # looking for any unique pairs of objects\n",
    "            obj1 = object_info[i]\n",
    "            obj2 = object_info[j]\n",
    "            o1 = obj1['idx']\n",
    "            o2 = obj2['idx']\n",
    "\n",
    "            dist = np.sqrt((obj1['xc']-obj2['xc'])**2 + (obj1['yc']-obj2['yc'])**2) / L\n",
    "            size1_2 = [obj2['h']/L, obj2['w']/L] # size of obj 2 given obj 1, [h,w] normalized by L\n",
    "            size2_1 = [obj1['h']/L, obj1['w']/L]\n",
    "            \n",
    "            if o1 == o2:\n",
    "                # diagonal elements\n",
    "                co_mat[o1,o2] += 1\n",
    "                size_mat[f'{o1}_{o2}'].append(size1_2)\n",
    "                dist_mat[f'{o1}_{o2}'].append(dist)\n",
    "            else:\n",
    "                co_mat[o1,o2] += 1\n",
    "                co_mat[o2,o1] += 1\n",
    "                size_mat[f'{o1}_{o2}'].append(size1_2)\n",
    "                size_mat[f'{o2}_{o1}'].append(size2_1)\n",
    "                dist_mat[f'{o1}_{o2}'].append(dist)\n",
    "                dist_mat[f'{o2}_{o1}'].append(dist)"
   ]
  },
  {
   "cell_type": "code",
   "execution_count": 6,
   "id": "663d91c1-6387-4e5f-8fb1-70f7c6d9e684",
   "metadata": {},
   "outputs": [],
   "source": [
    "\n",
    "# save files\n",
    "f = open(f\"./voc_co_mat.json\",\"w\")\n",
    "f.write(JSON.dumps(co_mat.astype(int).tolist()))\n",
    "f.close()\n",
    "\n",
    "np.save('voc_dist_mat',dist_mat)\n",
    "np.save('voc_size_mat',size_mat)"
   ]
  },
  {
   "cell_type": "code",
   "execution_count": null,
   "id": "fc08f704-85cf-48ae-85a8-35ab793e4ba8",
   "metadata": {},
   "outputs": [],
   "source": []
  },
  {
   "cell_type": "code",
   "execution_count": 4,
   "id": "14b232ca-e278-4b0d-8398-e2aeefd4cde3",
   "metadata": {},
   "outputs": [],
   "source": [
    "# load files\n",
    "co_mat = JSON.load(open('voc_co_mat.json'))\n",
    "dist_mat = np.load('voc_dist_mat.npy',allow_pickle=True).item()\n",
    "size_mat = np.load('voc_size_mat.npy',allow_pickle=True).item()"
   ]
  },
  {
   "cell_type": "code",
   "execution_count": 9,
   "id": "db59239a-c892-4bac-bad6-47b82eda819f",
   "metadata": {},
   "outputs": [
    {
     "data": {
      "text/plain": [
       "False"
      ]
     },
     "execution_count": 9,
     "metadata": {},
     "output_type": "execute_result"
    }
   ],
   "source": [
    "o1 = 1\n",
    "o2 = 12\n",
    "f'{o1}_{o2}' in dist_mat.keys()"
   ]
  },
  {
   "cell_type": "code",
   "execution_count": 12,
   "id": "a3d20f13-a642-44e2-818e-c1f9b03ec4ba",
   "metadata": {},
   "outputs": [
    {
     "name": "stderr",
     "output_type": "stream",
     "text": [
      "/home/lab/anaconda3/envs/vision/lib/python3.7/site-packages/ipykernel_launcher.py:3: RuntimeWarning: Mean of empty slice.\n",
      "  This is separate from the ipykernel package so we can avoid doing imports until\n",
      "/home/lab/anaconda3/envs/vision/lib/python3.7/site-packages/numpy/core/_methods.py:170: RuntimeWarning: invalid value encountered in double_scalars\n",
      "  ret = ret.dtype.type(ret / rcount)\n"
     ]
    },
    {
     "data": {
      "text/plain": [
       "nan"
      ]
     },
     "execution_count": 12,
     "metadata": {},
     "output_type": "execute_result"
    }
   ],
   "source": [
    "dist_mat[f'{o1}_{o2}']\n",
    "\n",
    "np.array(dist_mat[f'{o1}_{o2}']).mean()\n"
   ]
  },
  {
   "cell_type": "code",
   "execution_count": 74,
   "id": "2ea7f8ed-e613-4ffb-b672-828b755c7c69",
   "metadata": {},
   "outputs": [
    {
     "data": {
      "text/plain": [
       "159"
      ]
     },
     "execution_count": 74,
     "metadata": {},
     "output_type": "execute_result"
    }
   ],
   "source": [
    "o1 = 1\n",
    "o2 = 1\n",
    "size = np.array(size_mat[f'{o1}_{o2}']).mean(axis=0)\n",
    "h,w = (size*L).astype(int)\n",
    "\n",
    "dist = np.array(dist_mat[f'{o1}_{o2}']).mean()\n",
    "dist = (dist*L).astype(int)\n",
    "dist"
   ]
  },
  {
   "cell_type": "code",
   "execution_count": 28,
   "id": "a4afc01c-e4b3-475b-8304-a314b0b83467",
   "metadata": {},
   "outputs": [
    {
     "data": {
      "text/plain": [
       "0.25579664059146"
      ]
     },
     "execution_count": 28,
     "metadata": {},
     "output_type": "execute_result"
    }
   ],
   "source": [
    "dist"
   ]
  },
  {
   "cell_type": "markdown",
   "id": "033a21a7-ab1a-4d41-9dd0-f5e2da048b34",
   "metadata": {},
   "source": [
    "## END"
   ]
  },
  {
   "cell_type": "code",
   "execution_count": 100,
   "id": "3a4aacca-2cab-49c5-aa97-89838487d28e",
   "metadata": {},
   "outputs": [
    {
     "name": "stdout",
     "output_type": "stream",
     "text": [
      "0.2276396522417966\n",
      "0.19341858746716048\n"
     ]
    },
    {
     "data": {
      "image/png": "[encoded data removed]",
      "text/plain": [
       "<Figure size 432x288 with 1 Axes>"
      ]
     },
     "metadata": {
      "needs_background": "light"
     },
     "output_type": "display_data"
    },
    {
     "name": "stdout",
     "output_type": "stream",
     "text": [
      "0.25579664059146\n",
      "0.23154569703962607\n"
     ]
    },
    {
     "data": {
      "image/png": "[encoded data removed]",
      "text/plain": [
       "<Figure size 432x288 with 1 Axes>"
      ]
     },
     "metadata": {
      "needs_background": "light"
     },
     "output_type": "display_data"
    },
    {
     "name": "stdout",
     "output_type": "stream",
     "text": [
      "0.2777267779089313\n",
      "0.2560207205859784\n"
     ]
    },
    {
     "data": {
      "image/png": "[encoded data removed]",
      "text/plain": [
       "<Figure size 432x288 with 1 Axes>"
      ]
     },
     "metadata": {
      "needs_background": "light"
     },
     "output_type": "display_data"
    },
    {
     "name": "stdout",
     "output_type": "stream",
     "text": [
      "0.26985828573437987\n",
      "0.24444421191766985\n"
     ]
    },
    {
     "data": {
      "image/png": "[encoded data removed]",
      "text/plain": [
       "<Figure size 432x288 with 1 Axes>"
      ]
     },
     "metadata": {
      "needs_background": "light"
     },
     "output_type": "display_data"
    },
    {
     "name": "stdout",
     "output_type": "stream",
     "text": [
      "0.2136418244368919\n",
      "0.18304965240584045\n"
     ]
    },
    {
     "data": {
      "image/png": "[encoded data removed]",
      "text/plain": [
       "<Figure size 432x288 with 1 Axes>"
      ]
     },
     "metadata": {
      "needs_background": "light"
     },
     "output_type": "display_data"
    },
    {
     "name": "stdout",
     "output_type": "stream",
     "text": [
      "0.2557262412637924\n",
      "0.22530441981339486\n"
     ]
    },
    {
     "data": {
      "image/png": "[encoded data removed]",
      "text/plain": [
       "<Figure size 432x288 with 1 Axes>"
      ]
     },
     "metadata": {
      "needs_background": "light"
     },
     "output_type": "display_data"
    },
    {
     "name": "stdout",
     "output_type": "stream",
     "text": [
      "0.2721488718892587\n",
      "0.24335915844693412\n"
     ]
    },
    {
     "data": {
      "image/png": "[encoded data removed]",
      "text/plain": [
       "<Figure size 432x288 with 1 Axes>"
      ]
     },
     "metadata": {
      "needs_background": "light"
     },
     "output_type": "display_data"
    },
    {
     "name": "stdout",
     "output_type": "stream",
     "text": [
      "0.29071320887971114\n",
      "0.27135986423119207\n"
     ]
    },
    {
     "data": {
      "image/png": "[encoded data removed]",
      "text/plain": [
       "<Figure size 432x288 with 1 Axes>"
      ]
     },
     "metadata": {
      "needs_background": "light"
     },
     "output_type": "display_data"
    },
    {
     "name": "stdout",
     "output_type": "stream",
     "text": [
      "0.2737720435167229\n",
      "0.23977645229954547\n"
     ]
    },
    {
     "data": {
      "image/png": "[encoded data removed]",
      "text/plain": [
       "<Figure size 432x288 with 1 Axes>"
      ]
     },
     "metadata": {
      "needs_background": "light"
     },
     "output_type": "display_data"
    },
    {
     "name": "stdout",
     "output_type": "stream",
     "text": [
      "0.2586332369135265\n",
      "0.23750073344154968\n"
     ]
    },
    {
     "data": {
      "image/png": "[encoded data removed]",
      "text/plain": [
       "<Figure size 432x288 with 1 Axes>"
      ]
     },
     "metadata": {
      "needs_background": "light"
     },
     "output_type": "display_data"
    },
    {
     "name": "stdout",
     "output_type": "stream",
     "text": [
      "0.3277558928034345\n",
      "0.2871626713151775\n"
     ]
    },
    {
     "data": {
      "image/png": "[encoded data removed]",
      "text/plain": [
       "<Figure size 432x288 with 1 Axes>"
      ]
     },
     "metadata": {
      "needs_background": "light"
     },
     "output_type": "display_data"
    },
    {
     "name": "stdout",
     "output_type": "stream",
     "text": [
      "0.283724745432186\n",
      "0.27492544443903333\n"
     ]
    },
    {
     "data": {
      "image/png": "[encoded data removed]",
      "text/plain": [
       "<Figure size 432x288 with 1 Axes>"
      ]
     },
     "metadata": {
      "needs_background": "light"
     },
     "output_type": "display_data"
    },
    {
     "name": "stdout",
     "output_type": "stream",
     "text": [
      "0.2613933002589412\n",
      "0.245779478328978\n"
     ]
    },
    {
     "data": {
      "image/png": "[encoded data removed]",
      "text/plain": [
       "<Figure size 432x288 with 1 Axes>"
      ]
     },
     "metadata": {
      "needs_background": "light"
     },
     "output_type": "display_data"
    },
    {
     "name": "stdout",
     "output_type": "stream",
     "text": [
      "0.274286864961448\n",
      "0.2514351250163958\n"
     ]
    },
    {
     "data": {
      "image/png": "[encoded data removed]",
      "text/plain": [
       "<Figure size 432x288 with 1 Axes>"
      ]
     },
     "metadata": {
      "needs_background": "light"
     },
     "output_type": "display_data"
    },
    {
     "name": "stdout",
     "output_type": "stream",
     "text": [
      "0.2696341324690945\n",
      "0.23774540884267623\n"
     ]
    },
    {
     "data": {
      "image/png": "[encoded data removed]",
      "text/plain": [
       "<Figure size 432x288 with 1 Axes>"
      ]
     },
     "metadata": {
      "needs_background": "light"
     },
     "output_type": "display_data"
    },
    {
     "name": "stdout",
     "output_type": "stream",
     "text": [
      "0.25815331989014456\n",
      "0.23002952226139126\n"
     ]
    },
    {
     "data": {
      "image/png": "[encoded data removed]",
      "text/plain": [
       "<Figure size 432x288 with 1 Axes>"
      ]
     },
     "metadata": {
      "needs_background": "light"
     },
     "output_type": "display_data"
    },
    {
     "name": "stdout",
     "output_type": "stream",
     "text": [
      "0.264533077727261\n",
      "0.23899132398395512\n"
     ]
    },
    {
     "data": {
      "image/png": "[encoded data removed]",
      "text/plain": [
       "<Figure size 432x288 with 1 Axes>"
      ]
     },
     "metadata": {
      "needs_background": "light"
     },
     "output_type": "display_data"
    },
    {
     "name": "stdout",
     "output_type": "stream",
     "text": [
      "0.30179507558486096\n",
      "0.31909229177641574\n"
     ]
    },
    {
     "data": {
      "image/png": "[encoded data removed]",
      "text/plain": [
       "<Figure size 432x288 with 1 Axes>"
      ]
     },
     "metadata": {
      "needs_background": "light"
     },
     "output_type": "display_data"
    },
    {
     "name": "stdout",
     "output_type": "stream",
     "text": [
      "0.3317731438023625\n",
      "0.3392009433949145\n"
     ]
    },
    {
     "data": {
      "image/png": "[encoded data removed]",
      "text/plain": [
       "<Figure size 432x288 with 1 Axes>"
      ]
     },
     "metadata": {
      "needs_background": "light"
     },
     "output_type": "display_data"
    },
    {
     "name": "stdout",
     "output_type": "stream",
     "text": [
      "0.2548534612305715\n",
      "0.22533677600395233\n"
     ]
    },
    {
     "data": {
      "image/png": "[encoded data removed]",
      "text/plain": [
       "<Figure size 432x288 with 1 Axes>"
      ]
     },
     "metadata": {
      "needs_background": "light"
     },
     "output_type": "display_data"
    }
   ],
   "source": [
    "size_mat['8_8']\n",
    "len(dist_mat['8_8'])\n",
    "\n",
    "for i in range(20):\n",
    "    plt.hist(dist_mat[f'{i}_{i}'])\n",
    "    print(np.mean(dist_mat[f'{i}_{i}']))\n",
    "    print(np.median(dist_mat[f'{i}_{i}']))\n",
    "    plt.show()"
   ]
  },
  {
   "cell_type": "code",
   "execution_count": 68,
   "id": "f6656662-deea-4ff6-a48d-1c1159b22d41",
   "metadata": {},
   "outputs": [
    {
     "data": {
      "text/plain": [
       "0.17121668287270886"
      ]
     },
     "execution_count": 68,
     "metadata": {},
     "output_type": "execute_result"
    },
    {
     "data": {
      "image/png": "[encoded data removed]",
      "text/plain": [
       "<Figure size 432x288 with 1 Axes>"
      ]
     },
     "metadata": {
      "needs_background": "light"
     },
     "output_type": "display_data"
    }
   ],
   "source": [
    "# object_sizes[0]['w']\n",
    "\n",
    "idx = 3\n",
    "# plt.hist(object_sizes[idx]['w'])\n",
    "# plt.hist(object_sizes[idx]['h'])\n",
    "\n",
    "plt.hist(np.array(object_sizes[idx]['w'])/np.array(object_sizes[idx]['h']),10)\n",
    "np.mean(object_sizes[idx]['w'])\n",
    "np.mean(object_sizes[idx]['h'])\n",
    "\n",
    "# plt.hist(w_list)\n",
    "# plt.hist(h_list)"
   ]
  },
  {
   "cell_type": "code",
   "execution_count": 33,
   "id": "df04cbd5-d323-46f4-abfb-54d1b5f89edd",
   "metadata": {},
   "outputs": [
    {
     "data": {
      "text/plain": [
       "48"
      ]
     },
     "execution_count": 33,
     "metadata": {},
     "output_type": "execute_result"
    }
   ],
   "source": [
    "np.random.randint(0, 123.2)"
   ]
  },
  {
   "cell_type": "code",
   "execution_count": 5,
   "id": "2affd33d-444d-4ce9-9bb9-a1bd0780f1ad",
   "metadata": {},
   "outputs": [
    {
     "name": "stderr",
     "output_type": "stream",
     "text": [
      "5011it [00:01, 4673.10it/s]\n"
     ]
    },
    {
     "data": {
      "text/plain": [
       "[[8, 8, 8, 8, 8],\n",
       " [6],\n",
       " [12, 14, 14, 14],\n",
       " [6],\n",
       " [1],\n",
       " [14, 12],\n",
       " [7, 7],\n",
       " [6],\n",
       " [11, 14, 14, 14],\n",
       " [1, 1, 1, 14, 14, 14]]"
      ]
     },
     "execution_count": 5,
     "metadata": {},
     "output_type": "execute_result"
    }
   ],
   "source": [
    "split = 'trainval'\n",
    "all_labels = get_labels(split)\n",
    "all_labels[:10]"
   ]
  },
  {
   "cell_type": "code",
   "execution_count": 6,
   "id": "ce43413d-62a0-4647-a1c6-c15f247ed2e2",
   "metadata": {},
   "outputs": [
    {
     "name": "stdout",
     "output_type": "stream",
     "text": [
      "[[187, 0, 0, 5, 0, 1, 21, 0, 1, 0, 0, 0, 0, 0, 86, 0, 6, 0, 0, 1], [0, 377, 0, 2, 7, 26, 77, 1, 54, 1, 1, 3, 0, 15, 1543, 28, 0, 8, 0, 8], [0, 0, 1560, 13, 0, 0, 6, 0, 8, 59, 0, 2, 0, 0, 235, 10, 0, 0, 0, 0], [5, 2, 13, 569, 0, 28, 99, 0, 8, 35, 3, 4, 0, 2, 280, 3, 0, 1, 1, 0], [0, 7, 0, 0, 1664, 3, 24, 8, 405, 1, 174, 15, 1, 0, 1305, 126, 6, 66, 0, 73], [1, 26, 0, 28, 3, 126, 292, 0, 0, 0, 0, 2, 0, 29, 524, 0, 0, 0, 1, 0], [21, 77, 6, 99, 24, 292, 2387, 4, 24, 22, 0, 10, 31, 201, 2263, 22, 15, 20, 41, 6], [0, 1, 0, 0, 8, 0, 4, 53, 49, 0, 7, 10, 0, 0, 42, 32, 0, 33, 0, 17], [1, 54, 8, 8, 405, 0, 24, 49, 2657, 0, 981, 54, 3, 4, 1998, 373, 0, 342, 0, 353], [0, 1, 59, 35, 1, 0, 22, 0, 0, 613, 0, 5, 43, 3, 182, 0, 6, 0, 0, 0], [0, 1, 0, 3, 174, 0, 0, 7, 981, 0, 82, 5, 0, 0, 713, 75, 0, 50, 0, 20], [0, 3, 2, 4, 15, 2, 10, 10, 54, 5, 5, 151, 14, 3, 315, 17, 31, 59, 0, 14], [0, 0, 0, 0, 1, 0, 31, 0, 3, 43, 0, 14, 185, 0, 784, 8, 8, 0, 2, 0], [0, 15, 0, 2, 0, 29, 201, 0, 4, 3, 0, 3, 0, 312, 1167, 12, 0, 1, 0, 0], [86, 1543, 235, 280, 1305, 524, 2263, 42, 1998, 182, 713, 315, 784, 1167, 11425, 389, 134, 341, 159, 222], [0, 28, 10, 3, 126, 0, 22, 32, 373, 0, 75, 17, 8, 12, 389, 1580, 0, 119, 2, 81], [6, 0, 0, 0, 6, 0, 15, 0, 0, 6, 0, 31, 8, 0, 134, 0, 1306, 0, 0, 0], [0, 8, 0, 1, 66, 0, 20, 33, 342, 0, 50, 59, 0, 1, 341, 119, 0, 58, 0, 85], [0, 0, 0, 1, 0, 1, 41, 0, 0, 0, 0, 0, 2, 0, 159, 2, 0, 0, 85, 0], [1, 8, 0, 0, 73, 0, 6, 17, 353, 0, 20, 14, 0, 0, 222, 81, 0, 85, 0, 154]]\n"
     ]
    }
   ],
   "source": [
    "mat = get_cooccurrence(all_labels, n_labels=20)\n",
    "# print(np.array(mat))\n",
    "print(mat)"
   ]
  },
  {
   "cell_type": "code",
   "execution_count": 7,
   "id": "c1bad7b8-231f-46f6-ac65-3b7833fdb71c",
   "metadata": {},
   "outputs": [
    {
     "name": "stderr",
     "output_type": "stream",
     "text": [
      "4952it [00:01, 4655.84it/s]\n"
     ]
    }
   ],
   "source": [
    "split = 'test'\n",
    "all_labels = get_labels(split)\n",
    "mat = get_cooccurrence(all_labels, n_labels=20)\n",
    "\n",
    "# save the cooccurrence matrix\n",
    "f = open(f\"./cooccurrence_matrix_voc07_{split}.json\",\"w\")\n",
    "f.write(JSON.dumps(mat))\n",
    "f.close()"
   ]
  },
  {
   "cell_type": "markdown",
   "id": "20ab79c9-5710-4d34-ac74-ce4ff472b576",
   "metadata": {},
   "source": [
    "### sanity check - if the code is working on some manual data"
   ]
  },
  {
   "cell_type": "code",
   "execution_count": 14,
   "id": "40ba2a16-1e00-4292-adaa-0f7d9674e5b3",
   "metadata": {},
   "outputs": [
    {
     "name": "stdout",
     "output_type": "stream",
     "text": [
      "[[0 1 1]\n",
      " [1 0 1]\n",
      " [1 1 0]] \n",
      "\n",
      "[[1 3 1]\n",
      " [3 0 1]\n",
      " [1 1 0]] \n",
      "\n",
      "[[2 3 1]\n",
      " [3 0 1]\n",
      " [1 1 0]] \n",
      "\n",
      "[[5 6 1]\n",
      " [6 0 1]\n",
      " [1 1 0]] \n",
      "\n"
     ]
    }
   ],
   "source": [
    "# code example, use testing set\n",
    "# manually constructed sanity check examples \n",
    "\n",
    "# suppose we sequentially observe the following samples, how will the co-occurrence matrix change\n",
    "all_labels = []\n",
    "\n",
    "labels = [0,1,2]\n",
    "all_labels.append(labels)\n",
    "mat = get_cooccurrence(all_labels, n_labels=3)\n",
    "print(np.array(mat),'\\n')\n",
    "\n",
    "# in: [a,b,c]\n",
    "# out:\n",
    "#     [[0,1,1],\n",
    "#      [1,0,1],\n",
    "#      [1,1,0]]\n",
    "\n",
    "# anomaly:\n",
    "# victim a, anomaly [b,b,c], [c,b,c]\n",
    "# victim b, anomaly [a,a,c], [a,c,c]\n",
    "# victim c, anomaly [a,b,b]\n",
    "\n",
    "    \n",
    "labels = [0,0,1]\n",
    "all_labels.append(labels)\n",
    "mat = get_cooccurrence(all_labels, n_labels=3)\n",
    "print(np.array(mat),'\\n')\n",
    "\n",
    "# in: [a,a,b]\n",
    "# out:\n",
    "#     [[1,3,1],\n",
    "#      [3,0,1],\n",
    "#      [1,1,0]]\n",
    "    \n",
    "# victim a, anomaly [b,a,b]\n",
    "# victim b, anomaly [a,a,c], [a,a,a]\n",
    "\n",
    "    \n",
    "labels = [0,0]models_bb\n",
    "all_labels.append(labels)\n",
    "mat = get_cooccurrence(all_labels, n_labels=3)\n",
    "print(np.array(mat),'\\n')\n",
    "\n",
    "# in: [a,a]\n",
    "# out:\n",
    "#     [[2,3,1],\n",
    "#      [3,0,1],\n",
    "#      [1,1,0]]\n",
    "\n",
    "# victim a, anomaly [a,b], [a,c]\n",
    "    \n",
    "    \n",
    "labels = [0,0,0,1]\n",
    "all_labels.append(labels)\n",
    "mat = get_cooccurrence(all_labels, n_labels=3)\n",
    "print(np.array(mat),'\\n')\n",
    "\n",
    "# in: [a,a,a,b]\n",
    "# out: \n",
    "#     [[5,6,1],\n",
    "#      [6,0,1],\n",
    "#      [1,1,0]]\n",
    "\n",
    "# victim a, anomaly [b,a,a,b], [c,a,a,b]\n",
    "# victim b, anomaly [a,a,a,a], [a,a,a,c]\n",
    "matrix = get_cooccurrence(all_labels, n_labels=3)"
   ]
  },
  {
   "cell_type": "code",
   "execution_count": 15,
   "id": "83e256b1-5950-4c8e-ab32-37fd57f53074",
   "metadata": {},
   "outputs": [
    {
     "name": "stdout",
     "output_type": "stream",
     "text": [
      "[[0 1 0 0 0 0]\n",
      " [1 0 0 0 0 0]\n",
      " [0 0 0 0 0 0]\n",
      " [0 0 0 0 0 0]\n",
      " [0 0 0 0 0 0]\n",
      " [0 0 0 0 0 0]] \n",
      "\n",
      "[[0 1 1 0 0 0]\n",
      " [1 0 0 0 0 0]\n",
      " [1 0 0 0 0 0]\n",
      " [0 0 0 0 0 0]\n",
      " [0 0 0 0 0 0]\n",
      " [0 0 0 0 0 0]] \n",
      "\n",
      "[[0 1 1 0 0 0]\n",
      " [1 0 0 0 0 0]\n",
      " [1 0 0 0 0 0]\n",
      " [0 0 0 0 1 0]\n",
      " [0 0 0 1 0 0]\n",
      " [0 0 0 0 0 0]] \n",
      "\n",
      "[[0 1 1 0 0 0]\n",
      " [1 0 0 0 0 0]\n",
      " [1 0 0 0 0 0]\n",
      " [0 0 0 0 1 1]\n",
      " [0 0 0 1 0 0]\n",
      " [0 0 0 1 0 0]] \n",
      "\n"
     ]
    }
   ],
   "source": [
    "\n",
    "all_labels = []\n",
    "# [a,b,c,x,y,z] : [0,1,2,3,4,5]\n",
    "\n",
    "# [a,b]\n",
    "labels = [0,1]\n",
    "all_labels.append(labels)\n",
    "mat = get_cooccurrence(all_labels, n_labels=6)\n",
    "print(np.array(mat),'\\n')\n",
    "\n",
    "# [a,c]\n",
    "labels = [0,2]\n",
    "all_labels.append(labels)\n",
    "mat = get_cooccurrence(all_labels, n_labels=6)\n",
    "print(np.array(mat),'\\n')\n",
    "\n",
    "# [x,y]\n",
    "labels = [3,4]\n",
    "all_labels.append(labels)\n",
    "mat = get_cooccurrence(all_labels, n_labels=6)\n",
    "print(np.array(mat),'\\n')\n",
    "\n",
    "\n",
    "# [x,z]\n",
    "labels = [3,5]\n",
    "all_labels.append(labels)\n",
    "mat = get_cooccurrence(all_labels, n_labels=6)\n",
    "print(np.array(mat),'\\n')"
   ]
  },
  {
   "cell_type": "code",
   "execution_count": 38,
   "id": "45bfe568-48cc-4b9a-a969-314564f35e79",
   "metadata": {},
   "outputs": [
    {
     "data": {
      "text/plain": [
       "[2, 3, 4, 5, 6, 7, 8, 9]"
      ]
     },
     "execution_count": 38,
     "metadata": {},
     "output_type": "execute_result"
    }
   ],
   "source": [
    "all_ = list(range(10))\n",
    "combo = [0,1]\n",
    "[all_[i] for i in combo]\n",
    "[all_[i] for i in range(len(all_)) if i not in combo]"
   ]
  },
  {
   "cell_type": "code",
   "execution_count": null,
   "id": "426dc28d-282b-4382-81f8-10785147b743",
   "metadata": {},
   "outputs": [],
   "source": []
  }
 ],
 "metadata": {
  "kernelspec": {
   "display_name": "Python 3",
   "language": "python",
   "name": "python3"
  },
  "language_info": {
   "codemirror_mode": {
    "name": "ipython",
    "version": 3
   },
   "file_extension": ".py",
   "mimetype": "text/x-python",
   "name": "python",
   "nbconvert_exporter": "python",
   "pygments_lexer": "ipython3",
   "version": "3.7.5"
  }
 },
 "nbformat": 4,
 "nbformat_minor": 5
}
